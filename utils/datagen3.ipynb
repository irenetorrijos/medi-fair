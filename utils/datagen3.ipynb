{
 "cells": [
  {
   "cell_type": "code",
   "execution_count": 1,
   "metadata": {},
   "outputs": [
    {
     "name": "stderr",
     "output_type": "stream",
     "text": [
      "Detecting 1 CUDA device(s).\n"
     ]
    }
   ],
   "source": [
    "import pandas as pd\n",
    "import numpy as np\n",
    "import random\n",
    "import matplotlib.pyplot as plt\n",
    "import seaborn as sns\n",
    "\n",
    "from cdt.data import CausalPairGenerator\n",
    "from sklearn.model_selection import train_test_split"
   ]
  },
  {
   "attachments": {},
   "cell_type": "markdown",
   "metadata": {},
   "source": [
    "For each type of data (pairs, triplets) or relationship (linear, quadratic, sinusoidal...), or noise model (gaussian, uniform, poisson...) (TODO)\n",
    "\n",
    "Generate 5000 rows, each with 400 data points (can vary for data types, i.e linear is too hard, don't generate as much)\n",
    "\n",
    "Split into train and test sets\n",
    "- \"train\" set is public_data, dataframes contain labels\n",
    "- \"test\" set is private_data, labels are reference_data"
   ]
  },
  {
   "attachments": {},
   "cell_type": "markdown",
   "metadata": {},
   "source": [
    "## Pairs"
   ]
  },
  {
   "cell_type": "code",
   "execution_count": 2,
   "metadata": {},
   "outputs": [],
   "source": [
    "generator = CausalPairGenerator(\"linear\")\n",
    "data, labels = generator.generate(5000, 400)"
   ]
  },
  {
   "cell_type": "code",
   "execution_count": 3,
   "metadata": {},
   "outputs": [],
   "source": [
    "X_train, X_test, y_train, y_test = train_test_split(data, labels, test_size=0.3, random_state=98328234)"
   ]
  },
  {
   "cell_type": "code",
   "execution_count": 4,
   "metadata": {},
   "outputs": [
    {
     "data": {
      "text/html": [
       "<div>\n",
       "<style scoped>\n",
       "    .dataframe tbody tr th:only-of-type {\n",
       "        vertical-align: middle;\n",
       "    }\n",
       "\n",
       "    .dataframe tbody tr th {\n",
       "        vertical-align: top;\n",
       "    }\n",
       "\n",
       "    .dataframe thead th {\n",
       "        text-align: right;\n",
       "    }\n",
       "</style>\n",
       "<table border=\"1\" class=\"dataframe\">\n",
       "  <thead>\n",
       "    <tr style=\"text-align: right;\">\n",
       "      <th></th>\n",
       "      <th>A</th>\n",
       "      <th>B</th>\n",
       "      <th>target</th>\n",
       "    </tr>\n",
       "  </thead>\n",
       "  <tbody>\n",
       "    <tr>\n",
       "      <th>1599</th>\n",
       "      <td>[-0.2350680441752183, -1.3430608403084965, -0....</td>\n",
       "      <td>[0.1990302744440545, 0.6899223797369812, 0.072...</td>\n",
       "      <td>1</td>\n",
       "    </tr>\n",
       "    <tr>\n",
       "      <th>2328</th>\n",
       "      <td>[0.2476102948716572, 0.03526608487620392, -0.0...</td>\n",
       "      <td>[0.3428453926129988, 0.05736345322905546, 0.02...</td>\n",
       "      <td>1</td>\n",
       "    </tr>\n",
       "    <tr>\n",
       "      <th>3342</th>\n",
       "      <td>[-0.5152142881378938, -0.705260090695323, -0.7...</td>\n",
       "      <td>[-0.6823449827870912, -0.1474768206677303, -1....</td>\n",
       "      <td>1</td>\n",
       "    </tr>\n",
       "    <tr>\n",
       "      <th>4792</th>\n",
       "      <td>[-0.2119613335312335, 0.10137626675133733, -0....</td>\n",
       "      <td>[-0.253241144407879, 0.17154233429038732, -0.8...</td>\n",
       "      <td>1</td>\n",
       "    </tr>\n",
       "    <tr>\n",
       "      <th>1744</th>\n",
       "      <td>[-0.8514427830472445, -0.46717965645235326, -0...</td>\n",
       "      <td>[-0.653307822598599, -0.6479951610655714, -2.2...</td>\n",
       "      <td>1</td>\n",
       "    </tr>\n",
       "    <tr>\n",
       "      <th>...</th>\n",
       "      <td>...</td>\n",
       "      <td>...</td>\n",
       "      <td>...</td>\n",
       "    </tr>\n",
       "    <tr>\n",
       "      <th>392</th>\n",
       "      <td>[0.2760603174628142, 1.6629706312642345, 0.804...</td>\n",
       "      <td>[-0.015100933379439898, -0.6443924423448616, -...</td>\n",
       "      <td>1</td>\n",
       "    </tr>\n",
       "    <tr>\n",
       "      <th>3095</th>\n",
       "      <td>[-0.40162826839464444, -0.766305902082595, -1....</td>\n",
       "      <td>[-0.4521899003595545, -0.6982071942424894, -1....</td>\n",
       "      <td>1</td>\n",
       "    </tr>\n",
       "    <tr>\n",
       "      <th>4441</th>\n",
       "      <td>[-1.1435695714076672, -2.4911442953343927, -1....</td>\n",
       "      <td>[-1.1112992366933903, -2.6480109432709846, -1....</td>\n",
       "      <td>1</td>\n",
       "    </tr>\n",
       "    <tr>\n",
       "      <th>4655</th>\n",
       "      <td>[0.7737601448400269, 0.710493606313704, 1.1932...</td>\n",
       "      <td>[2.072159138873667, 0.3848843483965063, 1.2817...</td>\n",
       "      <td>1</td>\n",
       "    </tr>\n",
       "    <tr>\n",
       "      <th>2575</th>\n",
       "      <td>[0.31718162977913467, -1.732212931359235, -0.2...</td>\n",
       "      <td>[0.41049511333415517, 1.3978682836648504, -1.0...</td>\n",
       "      <td>1</td>\n",
       "    </tr>\n",
       "  </tbody>\n",
       "</table>\n",
       "<p>3500 rows × 3 columns</p>\n",
       "</div>"
      ],
      "text/plain": [
       "                                                      A  \\\n",
       "1599  [-0.2350680441752183, -1.3430608403084965, -0....   \n",
       "2328  [0.2476102948716572, 0.03526608487620392, -0.0...   \n",
       "3342  [-0.5152142881378938, -0.705260090695323, -0.7...   \n",
       "4792  [-0.2119613335312335, 0.10137626675133733, -0....   \n",
       "1744  [-0.8514427830472445, -0.46717965645235326, -0...   \n",
       "...                                                 ...   \n",
       "392   [0.2760603174628142, 1.6629706312642345, 0.804...   \n",
       "3095  [-0.40162826839464444, -0.766305902082595, -1....   \n",
       "4441  [-1.1435695714076672, -2.4911442953343927, -1....   \n",
       "4655  [0.7737601448400269, 0.710493606313704, 1.1932...   \n",
       "2575  [0.31718162977913467, -1.732212931359235, -0.2...   \n",
       "\n",
       "                                                      B  target  \n",
       "1599  [0.1990302744440545, 0.6899223797369812, 0.072...       1  \n",
       "2328  [0.3428453926129988, 0.05736345322905546, 0.02...       1  \n",
       "3342  [-0.6823449827870912, -0.1474768206677303, -1....       1  \n",
       "4792  [-0.253241144407879, 0.17154233429038732, -0.8...       1  \n",
       "1744  [-0.653307822598599, -0.6479951610655714, -2.2...       1  \n",
       "...                                                 ...     ...  \n",
       "392   [-0.015100933379439898, -0.6443924423448616, -...       1  \n",
       "3095  [-0.4521899003595545, -0.6982071942424894, -1....       1  \n",
       "4441  [-1.1112992366933903, -2.6480109432709846, -1....       1  \n",
       "4655  [2.072159138873667, 0.3848843483965063, 1.2817...       1  \n",
       "2575  [0.41049511333415517, 1.3978682836648504, -1.0...       1  \n",
       "\n",
       "[3500 rows x 3 columns]"
      ]
     },
     "execution_count": 4,
     "metadata": {},
     "output_type": "execute_result"
    }
   ],
   "source": [
    "# add y_train labels to X_train\n",
    "X_train['target'] = y_train\n",
    "X_train"
   ]
  },
  {
   "cell_type": "code",
   "execution_count": 5,
   "metadata": {},
   "outputs": [],
   "source": [
    "X_train.to_pickle('generated_data/public_data/linear_train.pkl')\n",
    "X_test.to_pickle('generated_data/public_data/linear_test.pkl')\n",
    "y_test.to_csv('generated_data/reference_data/linear_test.csv', index=False)"
   ]
  },
  {
   "cell_type": "code",
   "execution_count": 6,
   "metadata": {},
   "outputs": [],
   "source": [
    "generator = CausalPairGenerator(\"polynomial\")\n",
    "data, labels = generator.generate(5000, 400)\n",
    "X_train, X_test, y_train, y_test = train_test_split(data, labels, test_size=0.3, random_state=864132408)\n",
    "X_train['target'] = y_train\n",
    "X_train.to_pickle('generated_data/public_data/polynomial_train.pkl')\n",
    "X_test.to_pickle('generated_data/public_data/polynomial_test.pkl')\n",
    "y_test.to_csv('generated_data/reference_data/polynomial_test.csv', index=False)"
   ]
  },
  {
   "cell_type": "code",
   "execution_count": 7,
   "metadata": {},
   "outputs": [],
   "source": [
    "generator = CausalPairGenerator(\"sigmoid_add\")\n",
    "data, labels = generator.generate(5000, 400)\n",
    "X_train, X_test, y_train, y_test = train_test_split(data, labels, test_size=0.3, random_state=938297823)\n",
    "X_train['target'] = y_train\n",
    "X_train.to_pickle('generated_data/public_data/sigmoid_add_train.pkl')\n",
    "X_test.to_pickle('generated_data/public_data/sigmoid_add_test.pkl')\n",
    "y_test.to_csv('generated_data/reference_data/sigmoid_add_test.csv', index=False)"
   ]
  },
  {
   "cell_type": "code",
   "execution_count": 8,
   "metadata": {},
   "outputs": [],
   "source": [
    "generator = CausalPairGenerator(\"sigmoid_mix\")\n",
    "data, labels = generator.generate(5000, 400)\n",
    "X_train, X_test, y_train, y_test = train_test_split(data, labels, test_size=0.3, random_state=38974932)\n",
    "X_train['target'] = y_train\n",
    "X_train.to_pickle('generated_data/public_data/sigmoid_mix_train.pkl')\n",
    "X_test.to_pickle('generated_data/public_data/sigmoid_mix_test.pkl')\n",
    "y_test.to_csv('generated_data/reference_data/sigmoid_mix_test.csv', index=False)"
   ]
  },
  {
   "attachments": {},
   "cell_type": "markdown",
   "metadata": {},
   "source": [
    "> Stopped here, took too much time"
   ]
  },
  {
   "cell_type": "code",
   "execution_count": 9,
   "metadata": {},
   "outputs": [],
   "source": [
    "# generator = CausalPairGenerator(\"gp_add\")\n",
    "# data, labels = generator.generate(5000, 400)\n",
    "# X_train, X_test, y_train, y_test = train_test_split(data, labels, test_size=0.3, random_state=93289235)\n",
    "# X_train['target'] = y_train\n",
    "# X_train.to_csv('generated_data/public_data/gp_add_train.csv')\n",
    "# X_test.to_csv('generated_data/public_data/gp_add_test.csv')\n",
    "# y_test.to_csv('generated_data/reference_data/gp_add_test.csv', index=False)"
   ]
  },
  {
   "cell_type": "code",
   "execution_count": 10,
   "metadata": {},
   "outputs": [],
   "source": [
    "# generator = CausalPairGenerator(\"gp_mix\")\n",
    "# data, labels = generator.generate(5000, 400)\n",
    "# X_train, X_test, y_train, y_test = train_test_split(data, labels, test_size=0.3, random_state=98021824)\n",
    "# X_train['target'] = y_train\n",
    "# X_train.to_csv('generated_data/public_data/gp_mix_train.csv')\n",
    "# X_test.to_csv('generated_data/public_data/gp_mix_test.csv')\n",
    "# y_test.to_csv('generated_data/reference_data/gp_mix_test.csv', index=False)"
   ]
  }
 ],
 "metadata": {
  "kernelspec": {
   "display_name": "Python 3",
   "language": "python",
   "name": "python3"
  },
  "language_info": {
   "codemirror_mode": {
    "name": "ipython",
    "version": 3
   },
   "file_extension": ".py",
   "mimetype": "text/x-python",
   "name": "python",
   "nbconvert_exporter": "python",
   "pygments_lexer": "ipython3",
   "version": "3.10.9 (main, Dec 19 2022, 17:35:49) [GCC 12.2.0]"
  },
  "orig_nbformat": 4,
  "vscode": {
   "interpreter": {
    "hash": "e7370f93d1d0cde622a1f8e1c04877d8463912d04d973331ad4851f04de6915a"
   }
  }
 },
 "nbformat": 4,
 "nbformat_minor": 2
}
