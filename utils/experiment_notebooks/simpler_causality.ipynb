{
 "cells": [
  {
   "cell_type": "code",
   "execution_count": 2,
   "metadata": {},
   "outputs": [
    {
     "name": "stderr",
     "output_type": "stream",
     "text": [
      "Detecting 1 CUDA device(s).\n"
     ]
    }
   ],
   "source": [
    "import numpy as np\n",
    "import pandas as pd\n",
    "import networkx as nx\n",
    "import matplotlib.pyplot as plt\n",
    "import seaborn as sns\n",
    "\n",
    "import pathlib as pl\n",
    "import sys\n",
    "\n",
    "from cdt.causality.graph import SAM"
   ]
  },
  {
   "cell_type": "code",
   "execution_count": 2,
   "metadata": {},
   "outputs": [],
   "source": [
    "sys.path.append(str(pl.Path.cwd().parent))"
   ]
  },
  {
   "cell_type": "code",
   "execution_count": 3,
   "metadata": {},
   "outputs": [],
   "source": [
    "from datagen import DataGenerator"
   ]
  },
  {
   "cell_type": "code",
   "execution_count": 4,
   "metadata": {},
   "outputs": [],
   "source": [
    "TRAIN_EPOCH = 500\n",
    "TEST_EPOCH = 200\n",
    "NRUNS = 6"
   ]
  },
  {
   "cell_type": "markdown",
   "metadata": {},
   "source": [
    "### 2 nodes, gaussian data, linear dependence"
   ]
  },
  {
   "cell_type": "code",
   "execution_count": 5,
   "metadata": {},
   "outputs": [
    {
     "data": {
      "image/png": "[encoded data removed]",
      "text/plain": [
       "<Figure size 640x480 with 1 Axes>"
      ]
     },
     "metadata": {},
     "output_type": "display_data"
    }
   ],
   "source": [
    "simple_graph = nx.DiGraph()\n",
    "simple_graph.add_nodes_from(range(2))\n",
    "simple_graph.add_edge(0, 1, weight=0.5)\n",
    "nx.draw(simple_graph, with_labels=True)"
   ]
  },
  {
   "cell_type": "code",
   "execution_count": 6,
   "metadata": {},
   "outputs": [],
   "source": [
    "data = DataGenerator(simple_graph, 2).generate(10000)\n",
    "df = pd.DataFrame(data, columns=[\"X\", \"Y\"])"
   ]
  },
  {
   "cell_type": "code",
   "execution_count": 7,
   "metadata": {},
   "outputs": [
    {
     "name": "stderr",
     "output_type": "stream",
     "text": [
      "100%|█| 700/700 [01:33<00:00,  7.51it/s, disc=-2.39, gen=-.975, regul_loss=0.001, tot=-1.8\n",
      "100%|█| 700/700 [01:33<00:00,  7.49it/s, disc=-.802, gen=-.998, regul_loss=0.00101, tot=-1\n",
      "100%|█| 700/700 [01:34<00:00,  7.42it/s, disc=-2.66, gen=-.913, regul_loss=0.00101, tot=-1\n",
      "100%|█| 700/700 [01:34<00:00,  7.41it/s, disc=1.13, gen=-.726, regul_loss=0.001, tot=-.195\n",
      "100%|█| 700/700 [01:33<00:00,  7.45it/s, disc=-1.75, gen=-1.19, regul_loss=0.001, tot=-2.1\n",
      "100%|█| 700/700 [01:33<00:00,  7.45it/s, disc=-.273, gen=-1.09, regul_loss=0.002, tot=-2.1\n"
     ]
    },
    {
     "data": {
      "text/plain": [
       "{('X', 'Y'): 0.44340547919273376, ('Y', 'X'): 0.5687798261642456}"
      ]
     },
     "execution_count": 7,
     "metadata": {},
     "output_type": "execute_result"
    }
   ],
   "source": [
    "sam = SAM(verbose=True, njobs=2, train_epochs=TRAIN_EPOCH, test_epochs=TEST_EPOCH, nruns=NRUNS)\n",
    "res = sam.predict(df)\n",
    "nx.get_edge_attributes(res, \"weight\")"
   ]
  },
  {
   "cell_type": "markdown",
   "metadata": {},
   "source": [
    "### 2 nodes, gaussian data, non linear dependence"
   ]
  },
  {
   "cell_type": "code",
   "execution_count": 8,
   "metadata": {},
   "outputs": [],
   "source": [
    "generator = DataGenerator(simple_graph, 2)\n",
    "generator.set_child_func(1, lambda data, preds: data[0]**2 + np.random.normal()*0.08)\n",
    "data = generator.generate(10000)\n",
    "df = pd.DataFrame(data, columns=[\"X\", \"Y\"])"
   ]
  },
  {
   "cell_type": "code",
   "execution_count": 9,
   "metadata": {},
   "outputs": [
    {
     "name": "stderr",
     "output_type": "stream",
     "text": [
      "100%|█| 700/700 [01:33<00:00,  7.50it/s, disc=-.0392, gen=-1.04, regul_loss=5.24e-6, tot=-\n",
      "100%|█| 700/700 [01:33<00:00,  7.49it/s, disc=-.0231, gen=-.934, regul_loss=0.001, tot=-1.\n",
      "100%|█| 700/700 [01:33<00:00,  7.49it/s, disc=-.0099, gen=-1.01, regul_loss=4.61e-6, tot=-\n",
      "100%|█| 700/700 [01:33<00:00,  7.47it/s, disc=-.0497, gen=-1.03, regul_loss=4.85e-6, tot=-\n",
      "100%|█| 700/700 [01:34<00:00,  7.43it/s, disc=-.244, gen=-.961, regul_loss=0.001, tot=-1.9\n",
      "100%|█| 700/700 [01:34<00:00,  7.42it/s, disc=-.258, gen=-.934, regul_loss=0.001, tot=-1.8\n"
     ]
    },
    {
     "data": {
      "text/plain": [
       "{('X', 'Y'): 0.20144224166870117, ('Y', 'X'): 0.22550757229328156}"
      ]
     },
     "execution_count": 9,
     "metadata": {},
     "output_type": "execute_result"
    }
   ],
   "source": [
    "sam = SAM(verbose=True, njobs=2, train_epochs=TRAIN_EPOCH, test_epochs=TEST_EPOCH, nruns=NRUNS)\n",
    "res = sam.predict(df)\n",
    "nx.get_edge_attributes(res, \"weight\")"
   ]
  },
  {
   "cell_type": "markdown",
   "metadata": {},
   "source": [
    "### 3 nodes, V shape, gaussian data, non linear dependence, same distribution"
   ]
  },
  {
   "cell_type": "code",
   "execution_count": 10,
   "metadata": {},
   "outputs": [
    {
     "data": {
      "image/png": "[encoded data removed]",
      "text/plain": [
       "<Figure size 640x480 with 1 Axes>"
      ]
     },
     "metadata": {},
     "output_type": "display_data"
    }
   ],
   "source": [
    "three_node_graph = nx.DiGraph()\n",
    "three_node_graph.add_nodes_from(range(3))\n",
    "three_node_graph.add_edge(0, 2, weight=0.6)\n",
    "three_node_graph.add_edge(1, 2, weight=0.4)\n",
    "nx.draw(three_node_graph, with_labels=True)"
   ]
  },
  {
   "cell_type": "code",
   "execution_count": 11,
   "metadata": {},
   "outputs": [],
   "source": [
    "generator = DataGenerator(three_node_graph, 3)\n",
    "generator.set_child_func(2, lambda data, preds: (data[0]**2) * 0.6 + data[1] * 0.4 + np.random.normal()*0.08)\n",
    "data = generator.generate(10000)\n",
    "df = pd.DataFrame(data, columns=[\"X\", \"Y\", \"Z\"])"
   ]
  },
  {
   "cell_type": "code",
   "execution_count": 12,
   "metadata": {},
   "outputs": [
    {
     "name": "stderr",
     "output_type": "stream",
     "text": [
      "100%|█| 700/700 [02:06<00:00,  5.54it/s, disc=-.241, gen=-1.03, regul_loss=0.00201, tot=-3\n",
      "100%|█| 700/700 [02:06<00:00,  5.53it/s, disc=-.386, gen=-.972, regul_loss=0.00101, tot=-2\n",
      "100%|█| 700/700 [02:07<00:00,  5.50it/s, disc=-.361, gen=-1.08, regul_loss=0.00101, tot=-3\n",
      "100%|█| 700/700 [02:07<00:00,  5.50it/s, disc=-.372, gen=-.965, regul_loss=0.00101, tot=-2\n",
      "100%|█| 700/700 [02:06<00:00,  5.52it/s, disc=-.353, gen=-1.05, regul_loss=0.00101, tot=-3\n",
      "100%|█| 700/700 [02:06<00:00,  5.52it/s, disc=-.334, gen=-.986, regul_loss=0.00101, tot=-2\n"
     ]
    },
    {
     "data": {
      "text/plain": [
       "{('X', 'Y'): 0.03687794879078865,\n",
       " ('X', 'Z'): 0.09225934743881226,\n",
       " ('Y', 'X'): 0.9654741883277893,\n",
       " ('Y', 'Z'): 0.14475099742412567,\n",
       " ('Z', 'X'): 0.10652881860733032,\n",
       " ('Z', 'Y'): 0.07679428905248642}"
      ]
     },
     "execution_count": 12,
     "metadata": {},
     "output_type": "execute_result"
    }
   ],
   "source": [
    "sam = SAM(verbose=True, njobs=2, train_epochs=TRAIN_EPOCH, test_epochs=TEST_EPOCH, nruns=NRUNS)\n",
    "res = sam.predict(df)\n",
    "nx.get_edge_attributes(res, \"weight\")"
   ]
  },
  {
   "cell_type": "markdown",
   "metadata": {},
   "source": [
    "### 3 nodes, V shape, gaussian data, non linear dependence, different distribution"
   ]
  },
  {
   "cell_type": "code",
   "execution_count": 13,
   "metadata": {},
   "outputs": [],
   "source": [
    "generator = DataGenerator(three_node_graph, 3)\n",
    "generator.set_child_func(2, lambda data, preds: (data[0]**2) * 0.6 + data[1] * 0.4 + np.random.normal()*0.08)\n",
    "generator.set_sample_func(0, lambda: np.random.normal(0, 2))\n",
    "generator.set_sample_func(1, lambda: np.random.normal(-10, 5))\n",
    "data = generator.generate(10000)\n",
    "df = pd.DataFrame(data, columns=[\"X\", \"Y\", \"Z\"])"
   ]
  },
  {
   "cell_type": "code",
   "execution_count": 14,
   "metadata": {},
   "outputs": [
    {
     "name": "stderr",
     "output_type": "stream",
     "text": [
      "100%|█| 700/700 [02:07<00:00,  5.51it/s, disc=-.704, gen=-.832, regul_loss=0.00101, tot=-2\n",
      "100%|█| 700/700 [02:07<00:00,  5.50it/s, disc=-.467, gen=-.907, regul_loss=0.00201, tot=-2\n",
      "100%|█| 700/700 [02:06<00:00,  5.52it/s, disc=-.571, gen=-.937, regul_loss=0.00101, tot=-2\n",
      "100%|█| 700/700 [02:06<00:00,  5.51it/s, disc=-.536, gen=-.958, regul_loss=0.00101, tot=-2\n",
      "100%|█| 700/700 [02:07<00:00,  5.51it/s, disc=-.539, gen=-.826, regul_loss=0.00101, tot=-2\n",
      "100%|█| 700/700 [02:07<00:00,  5.50it/s, disc=-.692, gen=-.976, regul_loss=0.001, tot=-2.8\n"
     ]
    },
    {
     "data": {
      "text/plain": [
       "{('X', 'Y'): 0.6901819705963135,\n",
       " ('X', 'Z'): 0.12531991302967072,\n",
       " ('Y', 'X'): 0.364625483751297,\n",
       " ('Y', 'Z'): 0.09939012676477432,\n",
       " ('Z', 'X'): 0.06018604710698128,\n",
       " ('Z', 'Y'): 0.10707446932792664}"
      ]
     },
     "execution_count": 14,
     "metadata": {},
     "output_type": "execute_result"
    }
   ],
   "source": [
    "sam = SAM(verbose=True, njobs=2, train_epochs=TRAIN_EPOCH, test_epochs=TEST_EPOCH, nruns=NRUNS)\n",
    "res = sam.predict(df)\n",
    "nx.get_edge_attributes(res, \"weight\")"
   ]
  },
  {
   "cell_type": "markdown",
   "metadata": {},
   "source": [
    "### 3 nodes, V shape, gaussian data, linear dependence, same distribution"
   ]
  },
  {
   "cell_type": "code",
   "execution_count": 15,
   "metadata": {},
   "outputs": [],
   "source": [
    "generator = DataGenerator(three_node_graph, 3)\n",
    "data = generator.generate(10000)\n",
    "df = pd.DataFrame(data, columns=[\"X\", \"Y\", \"Z\"])"
   ]
  },
  {
   "cell_type": "code",
   "execution_count": 16,
   "metadata": {},
   "outputs": [
    {
     "name": "stderr",
     "output_type": "stream",
     "text": [
      "100%|█| 700/700 [02:07<00:00,  5.48it/s, disc=0.0769, gen=-.887, regul_loss=0.00201, tot=-\n",
      "100%|█| 700/700 [02:07<00:00,  5.48it/s, disc=2.08, gen=-.865, regul_loss=0.00201, tot=-1.\n",
      "100%|█| 700/700 [02:07<00:00,  5.51it/s, disc=0.0623, gen=-.901, regul_loss=0.00201, tot=-\n",
      "100%|█| 700/700 [02:07<00:00,  5.50it/s, disc=-.603, gen=-1.08, regul_loss=0.00201, tot=-3\n",
      "100%|█| 700/700 [02:05<00:00,  5.57it/s, disc=-1.43, gen=-.942, regul_loss=0.00201, tot=-2\n",
      "100%|█| 700/700 [02:05<00:00,  5.57it/s, disc=-.937, gen=-.889, regul_loss=0.00401, tot=-2\n"
     ]
    },
    {
     "data": {
      "text/plain": [
       "{('X', 'Y'): 0.1197667345404625,\n",
       " ('X', 'Z'): 0.1897757649421692,\n",
       " ('Y', 'X'): 0.6116763949394226,\n",
       " ('Y', 'Z'): 0.6547685265541077,\n",
       " ('Z', 'X'): 0.5958592891693115,\n",
       " ('Z', 'Y'): 0.2001645565032959}"
      ]
     },
     "execution_count": 16,
     "metadata": {},
     "output_type": "execute_result"
    }
   ],
   "source": [
    "sam = SAM(verbose=True, njobs=2, train_epochs=TRAIN_EPOCH, test_epochs=TEST_EPOCH, nruns=NRUNS)\n",
    "res = sam.predict(df)\n",
    "nx.get_edge_attributes(res, \"weight\")"
   ]
  },
  {
   "cell_type": "markdown",
   "metadata": {},
   "source": [
    "### 3 nodes, V shape, gaussian data, linear dependence, different distribution"
   ]
  },
  {
   "cell_type": "code",
   "execution_count": 17,
   "metadata": {},
   "outputs": [],
   "source": [
    "generator = DataGenerator(three_node_graph, 3)\n",
    "generator.set_sample_func(0, lambda: np.random.normal(0, 2))\n",
    "generator.set_sample_func(1, lambda: np.random.normal(-10, 5))\n",
    "data = generator.generate(10000)\n",
    "df = pd.DataFrame(data, columns=[\"X\", \"Y\", \"Z\"])"
   ]
  },
  {
   "cell_type": "code",
   "execution_count": 18,
   "metadata": {},
   "outputs": [
    {
     "name": "stderr",
     "output_type": "stream",
     "text": [
      "100%|█| 700/700 [02:07<00:00,  5.51it/s, disc=0.67, gen=-.689, regul_loss=0.00301, tot=-1.\n",
      "100%|█| 700/700 [02:07<00:00,  5.51it/s, disc=-.912, gen=-.754, regul_loss=0.00401, tot=-2\n",
      "100%|█| 700/700 [02:07<00:00,  5.51it/s, disc=-.568, gen=-1.14, regul_loss=0.00301, tot=-3\n",
      "100%|█| 700/700 [02:07<00:00,  5.50it/s, disc=-.905, gen=-.826, regul_loss=0.00201, tot=-2\n",
      "100%|█| 700/700 [02:06<00:00,  5.54it/s, disc=-.801, gen=-.95, regul_loss=0.00301, tot=-2.\n",
      "100%|█| 700/700 [02:06<00:00,  5.53it/s, disc=-2.38, gen=-1.05, regul_loss=0.00301, tot=-3\n"
     ]
    },
    {
     "data": {
      "text/plain": [
       "{('X', 'Y'): 0.26882240176200867,\n",
       " ('X', 'Z'): 0.6612529158592224,\n",
       " ('Y', 'X'): 0.6737987995147705,\n",
       " ('Y', 'Z'): 0.8342816233634949,\n",
       " ('Z', 'X'): 0.34479987621307373,\n",
       " ('Z', 'Y'): 0.14313991367816925}"
      ]
     },
     "execution_count": 18,
     "metadata": {},
     "output_type": "execute_result"
    }
   ],
   "source": [
    "sam = SAM(verbose=True, njobs=2, train_epochs=TRAIN_EPOCH, test_epochs=TEST_EPOCH, nruns=NRUNS)\n",
    "res = sam.predict(df)\n",
    "nx.get_edge_attributes(res, \"weight\")"
   ]
  },
  {
   "cell_type": "code",
   "execution_count": 7,
   "metadata": {},
   "outputs": [],
   "source": [
    "results = pd.DataFrame(columns=[\"X->Y\", \"X->Z\", \"Y->X\", \"Y->Z\", \"Z->X\", \"Z->Y\"], index=[\"Linear/Same distribution\", \"Linear/Different distribution\", \"Nonlinear/Same distribution\", \"Nonlinear/Different distribution\"])"
   ]
  },
  {
   "cell_type": "code",
   "execution_count": 10,
   "metadata": {},
   "outputs": [],
   "source": [
    "lin_same_dist = {('X', 'Y'): 0.1197667345404625,\n",
    " ('X', 'Z'): 0.1897757649421692,\n",
    " ('Y', 'X'): 0.6116763949394226,\n",
    " ('Y', 'Z'): 0.6547685265541077,\n",
    " ('Z', 'X'): 0.5958592891693115,\n",
    " ('Z', 'Y'): 0.2001645565032959}\n",
    "\n",
    "lin_diff_dist = {('X', 'Y'): 0.26882240176200867,\n",
    " ('X', 'Z'): 0.6612529158592224,\n",
    " ('Y', 'X'): 0.6737987995147705,\n",
    " ('Y', 'Z'): 0.8342816233634949,\n",
    " ('Z', 'X'): 0.34479987621307373,\n",
    " ('Z', 'Y'): 0.14313991367816925}\n",
    "\n",
    "nonlin_same_dist = {('X', 'Y'): 0.03687794879078865,\n",
    " ('X', 'Z'): 0.09225934743881226,\n",
    " ('Y', 'X'): 0.9654741883277893,\n",
    " ('Y', 'Z'): 0.14475099742412567,\n",
    " ('Z', 'X'): 0.10652881860733032,\n",
    " ('Z', 'Y'): 0.07679428905248642}\n",
    "\n",
    "nonlin_diff_dist = {('X', 'Y'): 0.6901819705963135,\n",
    " ('X', 'Z'): 0.12531991302967072,\n",
    " ('Y', 'X'): 0.364625483751297,\n",
    " ('Y', 'Z'): 0.09939012676477432,\n",
    " ('Z', 'X'): 0.06018604710698128,\n",
    " ('Z', 'Y'): 0.10707446932792664}"
   ]
  },
  {
   "cell_type": "code",
   "execution_count": 11,
   "metadata": {},
   "outputs": [],
   "source": [
    "results.loc[\"Linear/Same distribution\"] = lin_same_dist"
   ]
  },
  {
   "cell_type": "code",
   "execution_count": 15,
   "metadata": {},
   "outputs": [],
   "source": [
    "# put the results from the dictionaries into the dataframe\n",
    "# the keys of the dictionaries are tuples of the form (parent, child)\n",
    "# the column names are of the form \"parent->child\"\n",
    "for key, value in lin_diff_dist.items():\n",
    "    results.loc[\"Linear/Different distribution\", key[0] + \"->\" + key[1]] = value\n",
    "\n",
    "for key, value in nonlin_same_dist.items():\n",
    "    results.loc[\"Nonlinear/Same distribution\", key[0] + \"->\" + key[1]] = value\n",
    "\n",
    "for key, value in nonlin_diff_dist.items():\n",
    "    results.loc[\"Nonlinear/Different distribution\", key[0] + \"->\" + key[1]] = value\n",
    "\n",
    "for key, value in lin_same_dist.items():\n",
    "    results.loc[\"Linear/Same distribution\", key[0] + \"->\" + key[1]] = value"
   ]
  },
  {
   "cell_type": "code",
   "execution_count": 31,
   "metadata": {},
   "outputs": [
    {
     "data": {
      "text/html": [
       "<style type=\"text/css\">\n",
       "#T_05a22_row0_col0, #T_05a22_row0_col5, #T_05a22_row1_col0, #T_05a22_row1_col4, #T_05a22_row1_col5, #T_05a22_row2_col0, #T_05a22_row2_col4, #T_05a22_row2_col5, #T_05a22_row3_col2, #T_05a22_row3_col4, #T_05a22_row3_col5 {\n",
       "  color: red;\n",
       "}\n",
       "#T_05a22_row0_col1, #T_05a22_row2_col1, #T_05a22_row2_col3, #T_05a22_row3_col1, #T_05a22_row3_col3 {\n",
       "  color: red;\n",
       "  background-color: rgba(0, 255, 0, 0.2);\n",
       "}\n",
       "#T_05a22_row0_col2, #T_05a22_row0_col4, #T_05a22_row1_col2, #T_05a22_row2_col2, #T_05a22_row3_col0 {\n",
       "  color: green;\n",
       "}\n",
       "#T_05a22_row0_col3, #T_05a22_row1_col1, #T_05a22_row1_col3 {\n",
       "  color: green;\n",
       "  background-color: rgba(0, 255, 0, 0.2);\n",
       "}\n",
       "</style>\n",
       "<table id=\"T_05a22\">\n",
       "  <thead>\n",
       "    <tr>\n",
       "      <th class=\"blank level0\" >&nbsp;</th>\n",
       "      <th id=\"T_05a22_level0_col0\" class=\"col_heading level0 col0\" >X->Y</th>\n",
       "      <th id=\"T_05a22_level0_col1\" class=\"col_heading level0 col1\" >X->Z</th>\n",
       "      <th id=\"T_05a22_level0_col2\" class=\"col_heading level0 col2\" >Y->X</th>\n",
       "      <th id=\"T_05a22_level0_col3\" class=\"col_heading level0 col3\" >Y->Z</th>\n",
       "      <th id=\"T_05a22_level0_col4\" class=\"col_heading level0 col4\" >Z->X</th>\n",
       "      <th id=\"T_05a22_level0_col5\" class=\"col_heading level0 col5\" >Z->Y</th>\n",
       "    </tr>\n",
       "  </thead>\n",
       "  <tbody>\n",
       "    <tr>\n",
       "      <th id=\"T_05a22_level0_row0\" class=\"row_heading level0 row0\" >Linear/Same distribution</th>\n",
       "      <td id=\"T_05a22_row0_col0\" class=\"data row0 col0\" >0.119767</td>\n",
       "      <td id=\"T_05a22_row0_col1\" class=\"data row0 col1\" >0.189776</td>\n",
       "      <td id=\"T_05a22_row0_col2\" class=\"data row0 col2\" >0.611676</td>\n",
       "      <td id=\"T_05a22_row0_col3\" class=\"data row0 col3\" >0.654769</td>\n",
       "      <td id=\"T_05a22_row0_col4\" class=\"data row0 col4\" >0.595859</td>\n",
       "      <td id=\"T_05a22_row0_col5\" class=\"data row0 col5\" >0.200165</td>\n",
       "    </tr>\n",
       "    <tr>\n",
       "      <th id=\"T_05a22_level0_row1\" class=\"row_heading level0 row1\" >Linear/Different distribution</th>\n",
       "      <td id=\"T_05a22_row1_col0\" class=\"data row1 col0\" >0.268822</td>\n",
       "      <td id=\"T_05a22_row1_col1\" class=\"data row1 col1\" >0.661253</td>\n",
       "      <td id=\"T_05a22_row1_col2\" class=\"data row1 col2\" >0.673799</td>\n",
       "      <td id=\"T_05a22_row1_col3\" class=\"data row1 col3\" >0.834282</td>\n",
       "      <td id=\"T_05a22_row1_col4\" class=\"data row1 col4\" >0.344800</td>\n",
       "      <td id=\"T_05a22_row1_col5\" class=\"data row1 col5\" >0.143140</td>\n",
       "    </tr>\n",
       "    <tr>\n",
       "      <th id=\"T_05a22_level0_row2\" class=\"row_heading level0 row2\" >Nonlinear/Same distribution</th>\n",
       "      <td id=\"T_05a22_row2_col0\" class=\"data row2 col0\" >0.036878</td>\n",
       "      <td id=\"T_05a22_row2_col1\" class=\"data row2 col1\" >0.092259</td>\n",
       "      <td id=\"T_05a22_row2_col2\" class=\"data row2 col2\" >0.965474</td>\n",
       "      <td id=\"T_05a22_row2_col3\" class=\"data row2 col3\" >0.144751</td>\n",
       "      <td id=\"T_05a22_row2_col4\" class=\"data row2 col4\" >0.106529</td>\n",
       "      <td id=\"T_05a22_row2_col5\" class=\"data row2 col5\" >0.076794</td>\n",
       "    </tr>\n",
       "    <tr>\n",
       "      <th id=\"T_05a22_level0_row3\" class=\"row_heading level0 row3\" >Nonlinear/Different distribution</th>\n",
       "      <td id=\"T_05a22_row3_col0\" class=\"data row3 col0\" >0.690182</td>\n",
       "      <td id=\"T_05a22_row3_col1\" class=\"data row3 col1\" >0.125320</td>\n",
       "      <td id=\"T_05a22_row3_col2\" class=\"data row3 col2\" >0.364625</td>\n",
       "      <td id=\"T_05a22_row3_col3\" class=\"data row3 col3\" >0.099390</td>\n",
       "      <td id=\"T_05a22_row3_col4\" class=\"data row3 col4\" >0.060186</td>\n",
       "      <td id=\"T_05a22_row3_col5\" class=\"data row3 col5\" >0.107074</td>\n",
       "    </tr>\n",
       "  </tbody>\n",
       "</table>\n"
      ],
      "text/plain": [
       "<pandas.io.formats.style.Styler at 0x7ff4bd56e860>"
      ]
     },
     "execution_count": 31,
     "metadata": {},
     "output_type": "execute_result"
    }
   ],
   "source": [
    "def color_dataframe(val):\n",
    "    color = 'red' if val < 0.5 else 'green'\n",
    "    return 'color: %s' % color\n",
    "\n",
    "def background(val):\n",
    "    return 'background-color: rgba(0, 255, 0, 0.2)'\n",
    "\n",
    "# make the background color of the X->Z and Y->Z column green\n",
    "results.style.applymap(color_dataframe).applymap(background, subset=pd.IndexSlice[:, ['X->Z', 'Y->Z']])"
   ]
  }
 ],
 "metadata": {
  "kernelspec": {
   "display_name": "Python 3 (ipykernel)",
   "language": "python",
   "name": "python3"
  },
  "language_info": {
   "codemirror_mode": {
    "name": "ipython",
    "version": 3
   },
   "file_extension": ".py",
   "mimetype": "text/x-python",
   "name": "python",
   "nbconvert_exporter": "python",
   "pygments_lexer": "ipython3",
   "version": "3.10.9 (main, Dec 19 2022, 17:35:49) [GCC 12.2.0]"
  },
  "vscode": {
   "interpreter": {
    "hash": "e7370f93d1d0cde622a1f8e1c04877d8463912d04d973331ad4851f04de6915a"
   }
  }
 },
 "nbformat": 4,
 "nbformat_minor": 2
}
