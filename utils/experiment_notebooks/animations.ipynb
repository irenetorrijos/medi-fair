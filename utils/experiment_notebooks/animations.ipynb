{
 "cells": [
  {
   "cell_type": "code",
   "execution_count": 1,
   "metadata": {},
   "outputs": [
    {
     "data": {
      "text/html": [
       "<pre style=\"white-space:pre;overflow-x:auto;line-height:normal;font-family:Menlo,'DejaVu Sans Mono',consolas,'Courier New',monospace\">Manim Community <span style=\"color: #008000; text-decoration-color: #008000\">v0.17.2</span>\n",
       "\n",
       "</pre>\n"
      ],
      "text/plain": [
       "Manim Community \u001b[32mv0.\u001b[0m\u001b[32m17.2\u001b[0m\n",
       "\n"
      ]
     },
     "metadata": {},
     "output_type": "display_data"
    }
   ],
   "source": [
    "from manim import *\n",
    "import numpy as np\n",
    "import pandas as pd\n",
    "# import matplotlib.pyplot as plt\n",
    "# import seaborn as sns"
   ]
  },
  {
   "cell_type": "code",
   "execution_count": 2,
   "metadata": {},
   "outputs": [
    {
     "name": "stderr",
     "output_type": "stream",
     "text": [
      "warning: kpathsea: configuration file texmf.cnf not found in these directories: /usr/bin:/usr/bin/share/texmf-local/web2c:/usr/bin/share/texmf-dist/web2c:/usr/bin/share/texmf/web2c:/usr/bin/texmf-local/web2c:/usr/bin/texmf-dist/web2c:/usr/bin/texmf/web2c:/usr:/usr/share/texmf-local/web2c:/usr/share/texmf-dist/web2c:/usr/share/texmf/web2c:/usr/texmf-local/web2c:/usr/texmf-dist/web2c:/usr/texmf/web2c://texmf-local/web2c:/://share/texmf-local/web2c://share/texmf-dist/web2c://share/texmf/web2c://texmf-local/web2c://texmf-dist/web2c://texmf/web2c.\n",
      "\n",
      "kpathsea: Running mktexfmt latex.fmt\n",
      "mktexfmt: No such file or directory\n"
     ]
    },
    {
     "ename": "RuntimeError",
     "evalue": "latex failed but did not produce a log file. Check your LaTeX installation.",
     "output_type": "error",
     "traceback": [
      "\u001b[0;31m---------------------------------------------------------------------------\u001b[0m",
      "\u001b[0;31mRuntimeError\u001b[0m                              Traceback (most recent call last)",
      "Cell \u001b[0;32mIn[2], line 1\u001b[0m\n\u001b[0;32m----> 1\u001b[0m get_ipython()\u001b[39m.\u001b[39;49mrun_cell_magic(\u001b[39m'\u001b[39;49m\u001b[39mmanim\u001b[39;49m\u001b[39m'\u001b[39;49m, \u001b[39m'\u001b[39;49m\u001b[39m-qm -v WARNING LogScalingExample\u001b[39;49m\u001b[39m'\u001b[39;49m, \u001b[39m'\u001b[39;49m\u001b[39m\\n\u001b[39;49;00m\u001b[39mclass LogScalingExample(Scene):\u001b[39;49m\u001b[39m\\n\u001b[39;49;00m\u001b[39m    def construct(self):\u001b[39;49m\u001b[39m\\n\u001b[39;49;00m\u001b[39m        ax = Axes(\u001b[39;49m\u001b[39m\\n\u001b[39;49;00m\u001b[39m            x_range=[0, 10, 1],\u001b[39;49m\u001b[39m\\n\u001b[39;49;00m\u001b[39m            y_range=[-2, 6, 1],\u001b[39;49m\u001b[39m\\n\u001b[39;49;00m\u001b[39m            tips=False,\u001b[39;49m\u001b[39m\\n\u001b[39;49;00m\u001b[39m            axis_config=\u001b[39;49m\u001b[39m{\u001b[39;49m\u001b[39m\"\u001b[39;49m\u001b[39minclude_numbers\u001b[39;49m\u001b[39m\"\u001b[39;49m\u001b[39m: True},\u001b[39;49m\u001b[39m\\n\u001b[39;49;00m\u001b[39m            y_axis_config=\u001b[39;49m\u001b[39m{\u001b[39;49m\u001b[39m\"\u001b[39;49m\u001b[39mscaling\u001b[39;49m\u001b[39m\"\u001b[39;49m\u001b[39m: LogBase(custom_labels=True)},\u001b[39;49m\u001b[39m\\n\u001b[39;49;00m\u001b[39m        )\u001b[39;49m\u001b[39m\\n\u001b[39;49;00m\u001b[39m\\n\u001b[39;49;00m\u001b[39m        # x_min must be > 0 because log is undefined at 0.\u001b[39;49m\u001b[39m\\n\u001b[39;49;00m\u001b[39m        graph = ax.plot(lambda x: x ** 2, x_range=[0.001, 10], use_smoothing=False)\u001b[39;49m\u001b[39m\\n\u001b[39;49;00m\u001b[39m        self.add(ax, graph)\u001b[39;49m\u001b[39m\\n\u001b[39;49;00m\u001b[39m'\u001b[39;49m)\n",
      "File \u001b[0;32m/usr/lib/python3.10/site-packages/IPython/core/interactiveshell.py:2430\u001b[0m, in \u001b[0;36mInteractiveShell.run_cell_magic\u001b[0;34m(self, magic_name, line, cell)\u001b[0m\n\u001b[1;32m   2428\u001b[0m \u001b[39mwith\u001b[39;00m \u001b[39mself\u001b[39m\u001b[39m.\u001b[39mbuiltin_trap:\n\u001b[1;32m   2429\u001b[0m     args \u001b[39m=\u001b[39m (magic_arg_s, cell)\n\u001b[0;32m-> 2430\u001b[0m     result \u001b[39m=\u001b[39m fn(\u001b[39m*\u001b[39;49margs, \u001b[39m*\u001b[39;49m\u001b[39m*\u001b[39;49mkwargs)\n\u001b[1;32m   2432\u001b[0m \u001b[39m# The code below prevents the output from being displayed\u001b[39;00m\n\u001b[1;32m   2433\u001b[0m \u001b[39m# when using magics with decodator @output_can_be_silenced\u001b[39;00m\n\u001b[1;32m   2434\u001b[0m \u001b[39m# when the last Python token in the expression is a ';'.\u001b[39;00m\n\u001b[1;32m   2435\u001b[0m \u001b[39mif\u001b[39;00m \u001b[39mgetattr\u001b[39m(fn, magic\u001b[39m.\u001b[39mMAGIC_OUTPUT_CAN_BE_SILENCED, \u001b[39mFalse\u001b[39;00m):\n",
      "File \u001b[0;32m~/.local/lib/python3.10/site-packages/manim/utils/ipython_magic.py:141\u001b[0m, in \u001b[0;36mManimMagic.manim\u001b[0;34m(self, line, cell, local_ns)\u001b[0m\n\u001b[1;32m    139\u001b[0m     SceneClass \u001b[39m=\u001b[39m local_ns[config[\u001b[39m\"\u001b[39m\u001b[39mscene_names\u001b[39m\u001b[39m\"\u001b[39m][\u001b[39m0\u001b[39m]]\n\u001b[1;32m    140\u001b[0m     scene \u001b[39m=\u001b[39m SceneClass(renderer\u001b[39m=\u001b[39mrenderer)\n\u001b[0;32m--> 141\u001b[0m     scene\u001b[39m.\u001b[39;49mrender()\n\u001b[1;32m    142\u001b[0m \u001b[39mfinally\u001b[39;00m:\n\u001b[1;32m    143\u001b[0m     \u001b[39m# Shader cache becomes invalid as the context is destroyed\u001b[39;00m\n\u001b[1;32m    144\u001b[0m     shader_program_cache\u001b[39m.\u001b[39mclear()\n",
      "File \u001b[0;32m~/.local/lib/python3.10/site-packages/manim/scene/scene.py:223\u001b[0m, in \u001b[0;36mScene.render\u001b[0;34m(self, preview)\u001b[0m\n\u001b[1;32m    221\u001b[0m \u001b[39mself\u001b[39m\u001b[39m.\u001b[39msetup()\n\u001b[1;32m    222\u001b[0m \u001b[39mtry\u001b[39;00m:\n\u001b[0;32m--> 223\u001b[0m     \u001b[39mself\u001b[39;49m\u001b[39m.\u001b[39;49mconstruct()\n\u001b[1;32m    224\u001b[0m \u001b[39mexcept\u001b[39;00m EndSceneEarlyException:\n\u001b[1;32m    225\u001b[0m     \u001b[39mpass\u001b[39;00m\n",
      "File \u001b[0;32m<string>:4\u001b[0m, in \u001b[0;36mconstruct\u001b[0;34m(self)\u001b[0m\n",
      "File \u001b[0;32m~/.local/lib/python3.10/site-packages/manim/mobject/graphing/coordinate_systems.py:1888\u001b[0m, in \u001b[0;36mAxes.__init__\u001b[0;34m(self, x_range, y_range, x_length, y_length, axis_config, x_axis_config, y_axis_config, tips, **kwargs)\u001b[0m\n\u001b[1;32m   1885\u001b[0m \u001b[39melse\u001b[39;00m:\n\u001b[1;32m   1886\u001b[0m     \u001b[39mself\u001b[39m\u001b[39m.\u001b[39my_axis_config[\u001b[39m\"\u001b[39m\u001b[39mexclude_origin_tick\u001b[39m\u001b[39m\"\u001b[39m] \u001b[39m=\u001b[39m \u001b[39mFalse\u001b[39;00m\n\u001b[0;32m-> 1888\u001b[0m \u001b[39mself\u001b[39m\u001b[39m.\u001b[39mx_axis \u001b[39m=\u001b[39m \u001b[39mself\u001b[39;49m\u001b[39m.\u001b[39;49m_create_axis(\u001b[39mself\u001b[39;49m\u001b[39m.\u001b[39;49mx_range, \u001b[39mself\u001b[39;49m\u001b[39m.\u001b[39;49mx_axis_config, \u001b[39mself\u001b[39;49m\u001b[39m.\u001b[39;49mx_length)\n\u001b[1;32m   1889\u001b[0m \u001b[39mself\u001b[39m\u001b[39m.\u001b[39my_axis \u001b[39m=\u001b[39m \u001b[39mself\u001b[39m\u001b[39m.\u001b[39m_create_axis(\u001b[39mself\u001b[39m\u001b[39m.\u001b[39my_range, \u001b[39mself\u001b[39m\u001b[39m.\u001b[39my_axis_config, \u001b[39mself\u001b[39m\u001b[39m.\u001b[39my_length)\n\u001b[1;32m   1891\u001b[0m \u001b[39m# Add as a separate group in case various other\u001b[39;00m\n\u001b[1;32m   1892\u001b[0m \u001b[39m# mobjects are added to self, as for example in\u001b[39;00m\n\u001b[1;32m   1893\u001b[0m \u001b[39m# NumberPlane below\u001b[39;00m\n",
      "File \u001b[0;32m~/.local/lib/python3.10/site-packages/manim/mobject/graphing/coordinate_systems.py:1961\u001b[0m, in \u001b[0;36mAxes._create_axis\u001b[0;34m(self, range_terms, axis_config, length)\u001b[0m\n\u001b[1;32m   1944\u001b[0m \u001b[39m\u001b[39m\u001b[39m\"\"\"Creates an axis and dynamically adjusts its position depending on where 0 is located on the line.\u001b[39;00m\n\u001b[1;32m   1945\u001b[0m \n\u001b[1;32m   1946\u001b[0m \u001b[39mParameters\u001b[39;00m\n\u001b[0;32m   (...)\u001b[0m\n\u001b[1;32m   1958\u001b[0m \u001b[39m    Returns a number line based on ``range_terms``.\u001b[39;00m\n\u001b[1;32m   1959\u001b[0m \u001b[39m\"\"\"\u001b[39;00m\n\u001b[1;32m   1960\u001b[0m axis_config[\u001b[39m\"\u001b[39m\u001b[39mlength\u001b[39m\u001b[39m\"\u001b[39m] \u001b[39m=\u001b[39m length\n\u001b[0;32m-> 1961\u001b[0m axis \u001b[39m=\u001b[39m NumberLine(range_terms, \u001b[39m*\u001b[39;49m\u001b[39m*\u001b[39;49maxis_config)\n\u001b[1;32m   1963\u001b[0m \u001b[39m# without the call to _origin_shift, graph does not exist when min > 0 or max < 0\u001b[39;00m\n\u001b[1;32m   1964\u001b[0m \u001b[39m# shifts the axis so that 0 is centered\u001b[39;00m\n\u001b[1;32m   1965\u001b[0m axis\u001b[39m.\u001b[39mshift(\u001b[39m-\u001b[39maxis\u001b[39m.\u001b[39mnumber_to_point(\u001b[39mself\u001b[39m\u001b[39m.\u001b[39m_origin_shift([axis\u001b[39m.\u001b[39mx_min, axis\u001b[39m.\u001b[39mx_max])))\n",
      "File \u001b[0;32m~/.local/lib/python3.10/site-packages/manim/mobject/graphing/number_line.py:246\u001b[0m, in \u001b[0;36mNumberLine.__init__\u001b[0;34m(self, x_range, length, unit_size, include_ticks, tick_size, numbers_with_elongated_ticks, longer_tick_multiple, exclude_origin_tick, rotation, stroke_width, include_tip, tip_width, tip_height, include_numbers, font_size, label_direction, label_constructor, scaling, line_to_number_buff, decimal_number_config, numbers_to_exclude, numbers_to_include, **kwargs)\u001b[0m\n\u001b[1;32m    231\u001b[0m     \u001b[39mself\u001b[39m\u001b[39m.\u001b[39madd_labels(\n\u001b[1;32m    232\u001b[0m         \u001b[39mdict\u001b[39m(\n\u001b[1;32m    233\u001b[0m             \u001b[39mzip\u001b[39m(\n\u001b[0;32m   (...)\u001b[0m\n\u001b[1;32m    242\u001b[0m         ),\n\u001b[1;32m    243\u001b[0m     )\n\u001b[1;32m    245\u001b[0m \u001b[39melse\u001b[39;00m:\n\u001b[0;32m--> 246\u001b[0m     \u001b[39mself\u001b[39;49m\u001b[39m.\u001b[39;49madd_numbers(\n\u001b[1;32m    247\u001b[0m         x_values\u001b[39m=\u001b[39;49m\u001b[39mself\u001b[39;49m\u001b[39m.\u001b[39;49mnumbers_to_include,\n\u001b[1;32m    248\u001b[0m         excluding\u001b[39m=\u001b[39;49m\u001b[39mself\u001b[39;49m\u001b[39m.\u001b[39;49mnumbers_to_exclude,\n\u001b[1;32m    249\u001b[0m         font_size\u001b[39m=\u001b[39;49m\u001b[39mself\u001b[39;49m\u001b[39m.\u001b[39;49mfont_size,\n\u001b[1;32m    250\u001b[0m     )\n",
      "File \u001b[0;32m~/.local/lib/python3.10/site-packages/manim/mobject/graphing/number_line.py:517\u001b[0m, in \u001b[0;36mNumberLine.add_numbers\u001b[0;34m(self, x_values, excluding, font_size, label_constructor, **kwargs)\u001b[0m\n\u001b[1;32m    514\u001b[0m     \u001b[39mif\u001b[39;00m x \u001b[39min\u001b[39;00m excluding:\n\u001b[1;32m    515\u001b[0m         \u001b[39mcontinue\u001b[39;00m\n\u001b[1;32m    516\u001b[0m     numbers\u001b[39m.\u001b[39madd(\n\u001b[0;32m--> 517\u001b[0m         \u001b[39mself\u001b[39;49m\u001b[39m.\u001b[39;49mget_number_mobject(\n\u001b[1;32m    518\u001b[0m             x,\n\u001b[1;32m    519\u001b[0m             font_size\u001b[39m=\u001b[39;49mfont_size,\n\u001b[1;32m    520\u001b[0m             label_constructor\u001b[39m=\u001b[39;49mlabel_constructor,\n\u001b[1;32m    521\u001b[0m             \u001b[39m*\u001b[39;49m\u001b[39m*\u001b[39;49mkwargs,\n\u001b[1;32m    522\u001b[0m         )\n\u001b[1;32m    523\u001b[0m     )\n\u001b[1;32m    524\u001b[0m \u001b[39mself\u001b[39m\u001b[39m.\u001b[39madd(numbers)\n\u001b[1;32m    525\u001b[0m \u001b[39mself\u001b[39m\u001b[39m.\u001b[39mnumbers \u001b[39m=\u001b[39m numbers\n",
      "File \u001b[0;32m~/.local/lib/python3.10/site-packages/manim/mobject/graphing/number_line.py:455\u001b[0m, in \u001b[0;36mNumberLine.get_number_mobject\u001b[0;34m(self, x, direction, buff, font_size, label_constructor, **number_config)\u001b[0m\n\u001b[1;32m    452\u001b[0m \u001b[39mif\u001b[39;00m label_constructor \u001b[39mis\u001b[39;00m \u001b[39mNone\u001b[39;00m:\n\u001b[1;32m    453\u001b[0m     label_constructor \u001b[39m=\u001b[39m \u001b[39mself\u001b[39m\u001b[39m.\u001b[39mlabel_constructor\n\u001b[0;32m--> 455\u001b[0m num_mob \u001b[39m=\u001b[39m DecimalNumber(\n\u001b[1;32m    456\u001b[0m     x, font_size\u001b[39m=\u001b[39;49mfont_size, mob_class\u001b[39m=\u001b[39;49mlabel_constructor, \u001b[39m*\u001b[39;49m\u001b[39m*\u001b[39;49mnumber_config\n\u001b[1;32m    457\u001b[0m )\n\u001b[1;32m    459\u001b[0m num_mob\u001b[39m.\u001b[39mnext_to(\u001b[39mself\u001b[39m\u001b[39m.\u001b[39mnumber_to_point(x), direction\u001b[39m=\u001b[39mdirection, buff\u001b[39m=\u001b[39mbuff)\n\u001b[1;32m    460\u001b[0m \u001b[39mif\u001b[39;00m x \u001b[39m<\u001b[39m \u001b[39m0\u001b[39m \u001b[39mand\u001b[39;00m \u001b[39mself\u001b[39m\u001b[39m.\u001b[39mlabel_direction[\u001b[39m0\u001b[39m] \u001b[39m==\u001b[39m \u001b[39m0\u001b[39m:\n\u001b[1;32m    461\u001b[0m     \u001b[39m# Align without the minus sign\u001b[39;00m\n",
      "File \u001b[0;32m~/.local/lib/python3.10/site-packages/manim/mobject/text/numbers.py:101\u001b[0m, in \u001b[0;36mDecimalNumber.__init__\u001b[0;34m(self, number, num_decimal_places, mob_class, include_sign, group_with_commas, digit_buff_per_font_unit, show_ellipsis, unit, include_background_rectangle, edge_to_fix, font_size, stroke_width, fill_opacity, **kwargs)\u001b[0m\n\u001b[1;32m     84\u001b[0m \u001b[39mself\u001b[39m\u001b[39m.\u001b[39minitial_config \u001b[39m=\u001b[39m kwargs\u001b[39m.\u001b[39mcopy()\n\u001b[1;32m     85\u001b[0m \u001b[39mself\u001b[39m\u001b[39m.\u001b[39minitial_config\u001b[39m.\u001b[39mupdate(\n\u001b[1;32m     86\u001b[0m     {\n\u001b[1;32m     87\u001b[0m         \u001b[39m\"\u001b[39m\u001b[39mnum_decimal_places\u001b[39m\u001b[39m\"\u001b[39m: num_decimal_places,\n\u001b[0;32m   (...)\u001b[0m\n\u001b[1;32m     98\u001b[0m     },\n\u001b[1;32m     99\u001b[0m )\n\u001b[0;32m--> 101\u001b[0m \u001b[39mself\u001b[39;49m\u001b[39m.\u001b[39;49m_set_submobjects_from_number(number)\n\u001b[1;32m    102\u001b[0m \u001b[39mself\u001b[39m\u001b[39m.\u001b[39minit_colors()\n",
      "File \u001b[0;32m~/.local/lib/python3.10/site-packages/manim/mobject/text/numbers.py:126\u001b[0m, in \u001b[0;36mDecimalNumber._set_submobjects_from_number\u001b[0;34m(self, number)\u001b[0m\n\u001b[1;32m    123\u001b[0m \u001b[39mself\u001b[39m\u001b[39m.\u001b[39msubmobjects \u001b[39m=\u001b[39m []\n\u001b[1;32m    125\u001b[0m num_string \u001b[39m=\u001b[39m \u001b[39mself\u001b[39m\u001b[39m.\u001b[39m_get_num_string(number)\n\u001b[0;32m--> 126\u001b[0m \u001b[39mself\u001b[39;49m\u001b[39m.\u001b[39;49madd(\u001b[39m*\u001b[39;49m(\u001b[39mmap\u001b[39;49m(\u001b[39mself\u001b[39;49m\u001b[39m.\u001b[39;49m_string_to_mob, num_string)))\n\u001b[1;32m    128\u001b[0m \u001b[39m# Add non-numerical bits\u001b[39;00m\n\u001b[1;32m    129\u001b[0m \u001b[39mif\u001b[39;00m \u001b[39mself\u001b[39m\u001b[39m.\u001b[39mshow_ellipsis:\n",
      "File \u001b[0;32m~/.local/lib/python3.10/site-packages/manim/mobject/text/numbers.py:182\u001b[0m, in \u001b[0;36mDecimalNumber._string_to_mob\u001b[0;34m(self, string, mob_class, **kwargs)\u001b[0m\n\u001b[1;32m    179\u001b[0m     mob_class \u001b[39m=\u001b[39m \u001b[39mself\u001b[39m\u001b[39m.\u001b[39mmob_class\n\u001b[1;32m    181\u001b[0m \u001b[39mif\u001b[39;00m string \u001b[39mnot\u001b[39;00m \u001b[39min\u001b[39;00m string_to_mob_map:\n\u001b[0;32m--> 182\u001b[0m     string_to_mob_map[string] \u001b[39m=\u001b[39m mob_class(string, \u001b[39m*\u001b[39;49m\u001b[39m*\u001b[39;49mkwargs)\n\u001b[1;32m    183\u001b[0m mob \u001b[39m=\u001b[39m string_to_mob_map[string]\u001b[39m.\u001b[39mcopy()\n\u001b[1;32m    184\u001b[0m mob\u001b[39m.\u001b[39mfont_size \u001b[39m=\u001b[39m \u001b[39mself\u001b[39m\u001b[39m.\u001b[39m_font_size\n",
      "File \u001b[0;32m~/.local/lib/python3.10/site-packages/manim/mobject/text/tex_mobject.py:275\u001b[0m, in \u001b[0;36mMathTex.__init__\u001b[0;34m(self, arg_separator, substrings_to_isolate, tex_to_color_map, tex_environment, *tex_strings, **kwargs)\u001b[0m\n\u001b[1;32m    273\u001b[0m \u001b[39mself\u001b[39m\u001b[39m.\u001b[39mtex_strings \u001b[39m=\u001b[39m \u001b[39mself\u001b[39m\u001b[39m.\u001b[39m_break_up_tex_strings(tex_strings)\n\u001b[1;32m    274\u001b[0m \u001b[39mtry\u001b[39;00m:\n\u001b[0;32m--> 275\u001b[0m     \u001b[39msuper\u001b[39;49m()\u001b[39m.\u001b[39;49m\u001b[39m__init__\u001b[39;49m(\n\u001b[1;32m    276\u001b[0m         \u001b[39mself\u001b[39;49m\u001b[39m.\u001b[39;49marg_separator\u001b[39m.\u001b[39;49mjoin(\u001b[39mself\u001b[39;49m\u001b[39m.\u001b[39;49mtex_strings),\n\u001b[1;32m    277\u001b[0m         tex_environment\u001b[39m=\u001b[39;49m\u001b[39mself\u001b[39;49m\u001b[39m.\u001b[39;49mtex_environment,\n\u001b[1;32m    278\u001b[0m         tex_template\u001b[39m=\u001b[39;49m\u001b[39mself\u001b[39;49m\u001b[39m.\u001b[39;49mtex_template,\n\u001b[1;32m    279\u001b[0m         \u001b[39m*\u001b[39;49m\u001b[39m*\u001b[39;49mkwargs,\n\u001b[1;32m    280\u001b[0m     )\n\u001b[1;32m    281\u001b[0m     \u001b[39mself\u001b[39m\u001b[39m.\u001b[39m_break_up_by_substrings()\n\u001b[1;32m    282\u001b[0m \u001b[39mexcept\u001b[39;00m \u001b[39mValueError\u001b[39;00m \u001b[39mas\u001b[39;00m compilation_error:\n",
      "File \u001b[0;32m~/.local/lib/python3.10/site-packages/manim/mobject/text/tex_mobject.py:84\u001b[0m, in \u001b[0;36mSingleStringMathTex.__init__\u001b[0;34m(self, tex_string, stroke_width, should_center, height, organize_left_to_right, tex_environment, tex_template, font_size, **kwargs)\u001b[0m\n\u001b[1;32m     82\u001b[0m \u001b[39massert\u001b[39;00m \u001b[39misinstance\u001b[39m(tex_string, \u001b[39mstr\u001b[39m)\n\u001b[1;32m     83\u001b[0m \u001b[39mself\u001b[39m\u001b[39m.\u001b[39mtex_string \u001b[39m=\u001b[39m tex_string\n\u001b[0;32m---> 84\u001b[0m file_name \u001b[39m=\u001b[39m tex_to_svg_file(\n\u001b[1;32m     85\u001b[0m     \u001b[39mself\u001b[39;49m\u001b[39m.\u001b[39;49m_get_modified_expression(tex_string),\n\u001b[1;32m     86\u001b[0m     environment\u001b[39m=\u001b[39;49m\u001b[39mself\u001b[39;49m\u001b[39m.\u001b[39;49mtex_environment,\n\u001b[1;32m     87\u001b[0m     tex_template\u001b[39m=\u001b[39;49m\u001b[39mself\u001b[39;49m\u001b[39m.\u001b[39;49mtex_template,\n\u001b[1;32m     88\u001b[0m )\n\u001b[1;32m     89\u001b[0m \u001b[39msuper\u001b[39m()\u001b[39m.\u001b[39m\u001b[39m__init__\u001b[39m(\n\u001b[1;32m     90\u001b[0m     file_name\u001b[39m=\u001b[39mfile_name,\n\u001b[1;32m     91\u001b[0m     should_center\u001b[39m=\u001b[39mshould_center,\n\u001b[0;32m   (...)\u001b[0m\n\u001b[1;32m     98\u001b[0m     \u001b[39m*\u001b[39m\u001b[39m*\u001b[39mkwargs,\n\u001b[1;32m     99\u001b[0m )\n\u001b[1;32m    100\u001b[0m \u001b[39mself\u001b[39m\u001b[39m.\u001b[39minit_colors()\n",
      "File \u001b[0;32m~/.local/lib/python3.10/site-packages/manim/utils/tex_file_writing.py:54\u001b[0m, in \u001b[0;36mtex_to_svg_file\u001b[0;34m(expression, environment, tex_template)\u001b[0m\n\u001b[1;32m     52\u001b[0m     tex_template \u001b[39m=\u001b[39m config[\u001b[39m\"\u001b[39m\u001b[39mtex_template\u001b[39m\u001b[39m\"\u001b[39m]\n\u001b[1;32m     53\u001b[0m tex_file \u001b[39m=\u001b[39m generate_tex_file(expression, environment, tex_template)\n\u001b[0;32m---> 54\u001b[0m dvi_file \u001b[39m=\u001b[39m compile_tex(\n\u001b[1;32m     55\u001b[0m     tex_file,\n\u001b[1;32m     56\u001b[0m     tex_template\u001b[39m.\u001b[39;49mtex_compiler,\n\u001b[1;32m     57\u001b[0m     tex_template\u001b[39m.\u001b[39;49moutput_format,\n\u001b[1;32m     58\u001b[0m )\n\u001b[1;32m     59\u001b[0m \u001b[39mreturn\u001b[39;00m convert_to_svg(dvi_file, tex_template\u001b[39m.\u001b[39moutput_format)\n",
      "File \u001b[0;32m~/.local/lib/python3.10/site-packages/manim/utils/tex_file_writing.py:200\u001b[0m, in \u001b[0;36mcompile_tex\u001b[0;34m(tex_file, tex_compiler, output_format)\u001b[0m\n\u001b[1;32m    198\u001b[0m     \u001b[39mif\u001b[39;00m exit_code \u001b[39m!=\u001b[39m \u001b[39m0\u001b[39m:\n\u001b[1;32m    199\u001b[0m         log_file \u001b[39m=\u001b[39m tex_file\u001b[39m.\u001b[39mwith_suffix(\u001b[39m\"\u001b[39m\u001b[39m.log\u001b[39m\u001b[39m\"\u001b[39m)\n\u001b[0;32m--> 200\u001b[0m         print_all_tex_errors(log_file, tex_compiler, tex_file)\n\u001b[1;32m    201\u001b[0m         \u001b[39mraise\u001b[39;00m \u001b[39mValueError\u001b[39;00m(\n\u001b[1;32m    202\u001b[0m             \u001b[39mf\u001b[39m\u001b[39m\"\u001b[39m\u001b[39m{\u001b[39;00mtex_compiler\u001b[39m}\u001b[39;00m\u001b[39m error converting to\u001b[39m\u001b[39m\"\u001b[39m\n\u001b[1;32m    203\u001b[0m             \u001b[39mf\u001b[39m\u001b[39m\"\u001b[39m\u001b[39m \u001b[39m\u001b[39m{\u001b[39;00moutput_format[\u001b[39m1\u001b[39m:]\u001b[39m}\u001b[39;00m\u001b[39m. See log output above or\u001b[39m\u001b[39m\"\u001b[39m\n\u001b[1;32m    204\u001b[0m             \u001b[39mf\u001b[39m\u001b[39m\"\u001b[39m\u001b[39m the log file: \u001b[39m\u001b[39m{\u001b[39;00mlog_file\u001b[39m}\u001b[39;00m\u001b[39m\"\u001b[39m,\n\u001b[1;32m    205\u001b[0m         )\n\u001b[1;32m    206\u001b[0m \u001b[39mreturn\u001b[39;00m result\n",
      "File \u001b[0;32m~/.local/lib/python3.10/site-packages/manim/utils/tex_file_writing.py:255\u001b[0m, in \u001b[0;36mprint_all_tex_errors\u001b[0;34m(log_file, tex_compiler, tex_file)\u001b[0m\n\u001b[1;32m    253\u001b[0m \u001b[39mdef\u001b[39;00m \u001b[39mprint_all_tex_errors\u001b[39m(log_file: Path, tex_compiler: \u001b[39mstr\u001b[39m, tex_file: Path) \u001b[39m-\u001b[39m\u001b[39m>\u001b[39m \u001b[39mNone\u001b[39;00m:\n\u001b[1;32m    254\u001b[0m     \u001b[39mif\u001b[39;00m \u001b[39mnot\u001b[39;00m log_file\u001b[39m.\u001b[39mexists():\n\u001b[0;32m--> 255\u001b[0m         \u001b[39mraise\u001b[39;00m \u001b[39mRuntimeError\u001b[39;00m(\n\u001b[1;32m    256\u001b[0m             \u001b[39mf\u001b[39m\u001b[39m\"\u001b[39m\u001b[39m{\u001b[39;00mtex_compiler\u001b[39m}\u001b[39;00m\u001b[39m failed but did not produce a log file. \u001b[39m\u001b[39m\"\u001b[39m\n\u001b[1;32m    257\u001b[0m             \u001b[39m\"\u001b[39m\u001b[39mCheck your LaTeX installation.\u001b[39m\u001b[39m\"\u001b[39m,\n\u001b[1;32m    258\u001b[0m         )\n\u001b[1;32m    259\u001b[0m     \u001b[39mwith\u001b[39;00m log_file\u001b[39m.\u001b[39mopen(encoding\u001b[39m=\u001b[39m\u001b[39m\"\u001b[39m\u001b[39mutf-8\u001b[39m\u001b[39m\"\u001b[39m) \u001b[39mas\u001b[39;00m f:\n\u001b[1;32m    260\u001b[0m         tex_compilation_log \u001b[39m=\u001b[39m f\u001b[39m.\u001b[39mreadlines()\n",
      "\u001b[0;31mRuntimeError\u001b[0m: latex failed but did not produce a log file. Check your LaTeX installation."
     ]
    }
   ],
   "source": [
    "%%manim -qm -v WARNING LogScalingExample\n",
    "\n",
    "class LogScalingExample(Scene):\n",
    "    def construct(self):\n",
    "        ax = Axes(\n",
    "            x_range=[0, 10, 1],\n",
    "            y_range=[-2, 6, 1],\n",
    "            tips=False,\n",
    "            axis_config={\"include_numbers\": True},\n",
    "            y_axis_config={\"scaling\": LogBase(custom_labels=True)},\n",
    "        )\n",
    "\n",
    "        # x_min must be > 0 because log is undefined at 0.\n",
    "        graph = ax.plot(lambda x: x ** 2, x_range=[0.001, 10], use_smoothing=False)\n",
    "        self.add(ax, graph)"
   ]
  },
  {
   "cell_type": "code",
   "execution_count": null,
   "metadata": {},
   "outputs": [],
   "source": [
    "%%manim -qm -v WARNING Correlation\n",
    "\n",
    "class Correlation(Scene):\n",
    "    def construct(self):\n",
    "        x = np.linspace(0, 12, 100)\n",
    "        temperature = np.sin(x) + np.random.normal(0, 0.1, 100)\n",
    "        sunburns = 0.3*temperature**3 + 0.5*temperature + 2*np.random.normal(365)\n",
    "        ice_cream_sales = x*temperature + 0.2*np.random.normal(365)\n",
    "\n",
    "        # normalize\n",
    "        temperature = (temperature - temperature.mean()) / temperature.std()\n",
    "        sunburns = (sunburns - sunburns.mean()) / sunburns.std()\n",
    "        ice_cream_sales = (ice_cream_sales - ice_cream_sales.mean()) / ice_cream_sales.std()\n",
    "\n",
    "        ax = Axes(\n",
    "            x_range=[0, 12, 1],\n",
    "            y_range=[-2, 2, 1],\n",
    "            tips=False,\n",
    "            axis_config={\"include_numbers\": True}\n",
    "        )\n",
    "\n",
    "        graph = ax.plot(lambda x: x ** 2, x_range=[0.001, 10], use_smoothing=False)\n",
    "\n",
    "        # self.add(ax, graph)\n",
    "\n",
    "        # circle = Circle(radius=1)\n",
    "        # square = Square(side_length=2)\n",
    "        self.play(Create(ax))"
   ]
  },
  {
   "cell_type": "code",
   "execution_count": 4,
   "metadata": {},
   "outputs": [
    {
     "data": {
      "text/plain": [
       "'/bin:/home/Nim/android/platform-tools/:/home/Nim/android/emulator/:/home/Nim/android/cmdline-tools/tools/bin/:/usr/local/bin:/usr/bin:/usr/local/sbin:/opt/android-sdk/emulator:/opt/android-sdk/platform-tools:/opt/cuda-10.1/bin:/home/Nim/.dotnet/tools:/usr/lib/jvm/default/bin:/usr/bin/site_perl:/usr/bin/vendor_perl:/usr/bin/core_perl:/home/Nim/.local/bin:/home/Nim/android-sdk/build-tools/29.0.3/:/home/Nim/.myscripts/:/home/Nim/.opam/default/bin'"
      ]
     },
     "execution_count": 4,
     "metadata": {},
     "output_type": "execute_result"
    }
   ],
   "source": []
  }
 ],
 "metadata": {
  "kernelspec": {
   "display_name": "Python 3",
   "language": "python",
   "name": "python3"
  },
  "language_info": {
   "codemirror_mode": {
    "name": "ipython",
    "version": 3
   },
   "file_extension": ".py",
   "mimetype": "text/x-python",
   "name": "python",
   "nbconvert_exporter": "python",
   "pygments_lexer": "ipython3",
   "version": "3.10.9 (main, Dec 19 2022, 17:35:49) [GCC 12.2.0]"
  },
  "orig_nbformat": 4,
  "vscode": {
   "interpreter": {
    "hash": "e7370f93d1d0cde622a1f8e1c04877d8463912d04d973331ad4851f04de6915a"
   }
  }
 },
 "nbformat": 4,
 "nbformat_minor": 2
}
